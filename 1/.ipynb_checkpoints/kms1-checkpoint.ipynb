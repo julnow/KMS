{
 "cells": [
  {
   "cell_type": "code",
   "execution_count": 36,
   "id": "06d6481b-4718-468c-80ab-9bc2be153603",
   "metadata": {},
   "outputs": [],
   "source": [
    "import numpy as np\n",
    "from numpy import sqrt, log\n",
    "import random\n",
    "import matplotlib.pyplot as plt"
   ]
  },
  {
   "cell_type": "code",
   "execution_count": 37,
   "id": "ae1c429f-1952-434e-820f-1fb53bc6230b",
   "metadata": {},
   "outputs": [],
   "source": [
    "directory='/Users/julnow/Desktop/szkoła/KMS/1/'\n",
    "params = directory + 'params.txt'"
   ]
  },
  {
   "cell_type": "markdown",
   "id": "b794403f-a026-4e7b-9a70-fa5cc63f0c09",
   "metadata": {},
   "source": [
    "lab 1"
   ]
  },
  {
   "cell_type": "code",
   "execution_count": 38,
   "id": "eeb4f30e-7483-4cb9-8b7c-8f7489862318",
   "metadata": {},
   "outputs": [
    {
     "ename": "NameError",
     "evalue": "name 'ariables' is not defined",
     "output_type": "error",
     "traceback": [
      "\u001b[0;31m---------------------------------------------------------------------------\u001b[0m",
      "\u001b[0;31mNameError\u001b[0m                                 Traceback (most recent call last)",
      "\u001b[0;32m/var/folders/_8/1pnnpyz111s3q4bf02xypbgc0000gn/T/ipykernel_1477/749570517.py\u001b[0m in \u001b[0;36m<module>\u001b[0;34m\u001b[0m\n\u001b[1;32m     18\u001b[0m \u001b[0mS_d\u001b[0m \u001b[0;34m=\u001b[0m \u001b[0mint\u001b[0m\u001b[0;34m(\u001b[0m\u001b[0mvariables\u001b[0m\u001b[0;34m[\u001b[0m\u001b[0;34m'S_d'\u001b[0m\u001b[0;34m]\u001b[0m\u001b[0;34m)\u001b[0m\u001b[0;34m\u001b[0m\u001b[0;34m\u001b[0m\u001b[0m\n\u001b[1;32m     19\u001b[0m \u001b[0mS_out\u001b[0m \u001b[0;34m=\u001b[0m \u001b[0mint\u001b[0m\u001b[0;34m(\u001b[0m\u001b[0mvariables\u001b[0m\u001b[0;34m[\u001b[0m\u001b[0;34m'S_out'\u001b[0m\u001b[0;34m]\u001b[0m\u001b[0;34m)\u001b[0m\u001b[0;34m\u001b[0m\u001b[0;34m\u001b[0m\u001b[0m\n\u001b[0;32m---> 20\u001b[0;31m \u001b[0mS_xyz\u001b[0m \u001b[0;34m=\u001b[0m \u001b[0mint\u001b[0m\u001b[0;34m(\u001b[0m\u001b[0mariables\u001b[0m\u001b[0;34m[\u001b[0m\u001b[0;34m'S_xyz'\u001b[0m\u001b[0;34m]\u001b[0m\u001b[0;34m)\u001b[0m\u001b[0;34m\u001b[0m\u001b[0;34m\u001b[0m\u001b[0m\n\u001b[0m\u001b[1;32m     21\u001b[0m \u001b[0;34m\u001b[0m\u001b[0m\n\u001b[1;32m     22\u001b[0m \u001b[0;31m# n = 3\u001b[0m\u001b[0;34m\u001b[0m\u001b[0;34m\u001b[0m\u001b[0;34m\u001b[0m\u001b[0m\n",
      "\u001b[0;31mNameError\u001b[0m: name 'ariables' is not defined"
     ]
    }
   ],
   "source": [
    "#read variables\n",
    "variables = {}\n",
    "with open(params) as f:\n",
    "    for line in f:\n",
    "        name, value = line.split(\" = \")\n",
    "        variables[name] = float(value)\n",
    "n = int(variables['n'])\n",
    "a = variables['a']\n",
    "L = variables['L']\n",
    "T0 =  variables['T']\n",
    "R =  variables['R']\n",
    "k = 8.31e-3 # Boltzman const\n",
    "m = variables['m']# * 1.6605402e-27 # 1u\n",
    "eps = variables['eps']\n",
    "f = variables['f']\n",
    "tau = variables['tau']\n",
    "S_0 = int(variables['S_0'])\n",
    "S_d = int(variables['S_d'])\n",
    "S_out = int(variables['S_out'])\n",
    "S_xyz = int(variables['S_xyz'])\n",
    "\n",
    "# n = 3\n",
    "# T0 = 10\n",
    "#kryształ\n",
    "#(3)\n",
    "N = n**3 \n",
    "# (4)\n",
    "b0 = np.array([a, 0, 0])\n",
    "b1 = np.array([a/2, a*sqrt(3)/2, 0])\n",
    "b2 = np.array([a/2, a*sqrt(3)/6, a*sqrt(2/3)])\n",
    "# (5)\n",
    "ri= np.zeros([3, N])\n",
    "for i0 in range(n):\n",
    "    for i1 in range(n):\n",
    "        for i2 in range(n):\n",
    "            i = i0 + i1 * n + i2 * n**2\n",
    "            r = (i0 - (n-1)/2)*b0 +  (i1- (n-1)/2)*b1 + (i2 - (n-1)/2)*b2\n",
    "            ri[:,i] = r\n",
    "# (6)\n",
    "ei= np.zeros([3, N])\n",
    "const = - k * T0 /2\n",
    "for i in range(N):\n",
    "    x = const*log(random.uniform(0, 1))\n",
    "    y = const*log(random.uniform(0, 1))\n",
    "    z = const*log(random.uniform(0, 1))\n",
    "    ei[:,i] = np.array([x, y, z])\n",
    "# (7)\n",
    "pi= np.zeros([3, N])\n",
    "for i in range(N):\n",
    "    x = sqrt(2*m*ei[0, i])\n",
    "    if (random.uniform(0, 1) < .5):\n",
    "        x *= -1\n",
    "    y = sqrt(2*m*ei[1, i])\n",
    "    if (random.uniform(0, 1) < .5):\n",
    "        y *= -1\n",
    "    z = sqrt(2*m*ei[2, i])\n",
    "    if (random.uniform(0, 1) < .5):\n",
    "        z *= -1\n",
    "    pi[:,i] = np.array([x, y, z])\n",
    "# (8)\n",
    "Px = sum(pi[0,:])\n",
    "Py = sum(pi[1,:])\n",
    "Pz = sum(pi[2,:])\n",
    "for i in range(N):\n",
    "    pi[0,i] -= Px/N\n",
    "    pi[1,i] -= Py/N\n",
    "    pi[2,i] -= Pz/N"
   ]
  },
  {
   "cell_type": "markdown",
   "id": "e1c054f4-e0ec-4c7c-854e-d4d7553c341b",
   "metadata": {},
   "source": [
    "lab 2"
   ]
  },
  {
   "cell_type": "code",
   "execution_count": null,
   "id": "47b76278-10fa-4ae3-801a-ed03d2a50007",
   "metadata": {
    "tags": []
   },
   "outputs": [],
   "source": [
    "# (9)\n",
    "Vp = np.zeros([N, N])\n",
    "Fi = np.zeros([3, N]) # (12)\n",
    "def calculate():\n",
    "    global ri, Vp, Fi, P, V\n",
    "    P = 0\n",
    "    V = 0\n",
    "    Vs = np.zeros([N])\n",
    "    Vp = np.zeros([N, N])\n",
    "    Fi = np.zeros([3, N])\n",
    "    for i in range(N):\n",
    "        r = np.linalg.norm(ri[:,i])\n",
    "        if (r < L):\n",
    "            Vs[i] = 0\n",
    "            Fi[:, i] = 0\n",
    "        else:\n",
    "            Vs[i] = f*pow((r-L),2)/2 # (10)\n",
    "            Fi[:, i] = f*(L-r) * (ri[:,i] / r) # (14)\n",
    "        P += np.linalg.norm(Fi[:, i]) / 4/ 3.14 / L**2 # (15)\n",
    "        if (i >0):\n",
    "            for j in range(0, i-1):\n",
    "                ri_rj = ri[:,i] - ri[:,j] # x, y, z difference\n",
    "                rr = np.linalg.norm(ri_rj) #sum of squares of x,y,z differences\n",
    "                vp_ij = eps*( pow((R/rr), 12) - 2* pow((R/rr),6) ) # (9)\n",
    "                Vp[i, j] = vp_ij\n",
    "                fi = 12* vp_ij * ri_rj / rr**2 # (13)\n",
    "                Fi[:, i] += fi\n",
    "                Fi[:, j] -= fi  \n",
    "        \n",
    "    V = np.sum(Vs) + np.sum(Vp) # (11)\n",
    "\n",
    "calculate()  \n",
    "print ('V = ' + str(V))\n",
    "print ('P = ' + str(P))\n",
    "# (16)\n",
    "H = 0 #hamiltionian\n",
    "def hamiltionian():\n",
    "    global H\n",
    "    H = 0 \n",
    "    for i in range(N):\n",
    "        p = np.linalg.norm(pi[:, i])\n",
    "        H += p**2 /2/m\n",
    "    H += V\n",
    "    print('H = ' + str(H))\n",
    "hamiltionian()"
   ]
  },
  {
   "cell_type": "markdown",
   "id": "0c34f270-d4fb-474b-98f3-965092f8107d",
   "metadata": {},
   "source": [
    "Lab 3"
   ]
  },
  {
   "cell_type": "code",
   "execution_count": null,
   "id": "56579714-e32a-49a9-92f3-79ae8816f46d",
   "metadata": {},
   "outputs": [],
   "source": [
    "\n",
    "T = 0\n",
    "def simulation():\n",
    "    global ri, pi, T\n",
    "    E_kin = 0 # (19)\n",
    "    for i in range(N):\n",
    "        # (17 a)\n",
    "        Fi_tau = Fi[:, i]* tau/2 \n",
    "        # print('Fi_tau = ' + str(Fi_tau))\n",
    "        pi[:,i] +=  Fi_tau \n",
    "        # (17 b)\n",
    "        ri[:,i] += pi[:,i]*tau / m\n",
    "    calculate()\n",
    "    for i in range(N):\n",
    "        # (17 c)\n",
    "        Fi_tau = Fi[:, i]* tau/2\n",
    "        pi[:,i] +=  Fi_tau \n",
    "        # (19)\n",
    "    p = np.linalg.norm(pi[:, i])\n",
    "    E_kin += p**2 /2/m\n",
    "    print('T = ' + str(T))\n",
    "    print('P = ' + str(P))\n",
    "    hamiltionian()\n",
    "    print('H = ' + str(H))\n",
    "    \n",
    "    T = 2 / (3*N*k)  * E_kin # (19)\n",
    "# simulation()"
   ]
  },
  {
   "cell_type": "code",
   "execution_count": null,
   "id": "97f97a71-7011-43fb-95b9-8c582d9ee89d",
   "metadata": {
    "tags": []
   },
   "outputs": [],
   "source": [
    "'''simulation'''\n",
    "for i in range (S_0):\n",
    "    simulation()\n",
    "    # print(Fi)\n",
    "T_bar, P_bar, H_bar = 0, 0, 0 # (20)\n",
    "for i in range (S_d):\n",
    "    simulation()\n",
    "    T_bar += T\n",
    "    P_bar += P\n",
    "    H_bar += H\n",
    "def bar(var, name):\n",
    "    var = var /S_d\n",
    "    print(r'$\\overline{' + name + r'}$ = ' + str(var))\n",
    "bar(T_bar, 'T')\n",
    "bar(P_bar, 'P')\n",
    "bar(H_bar, 'H')"
   ]
  },
  {
   "cell_type": "code",
   "execution_count": null,
   "id": "ed87aea1-ffec-4870-9a0f-8fa90afc6d40",
   "metadata": {
    "tags": []
   },
   "outputs": [],
   "source": [
    "#plot histograms for momenta\n",
    "coords = ['x', 'y', 'z']\n",
    "count = 0\n",
    "for coord in coords:\n",
    "    fig, ax = plt.subplots(figsize=(12,8))\n",
    "    name = r'$p_{' + coord + r'}$'\n",
    "    plt.title(r'Histogram of ' + name , fontsize=18)\n",
    "    plt.xlabel(name, fontsize=18, loc='right')\n",
    "    plt.ylabel(\"entries\", fontsize=18, loc='top')\n",
    "    #plt.yscale('log')\n",
    "    plt.hist(pi[count, :], bins=100)\n",
    "    ax.tick_params(axis='both', which='major', labelsize=14)\n",
    "    fig.tight_layout()\n",
    "    count += 1"
   ]
  },
  {
   "cell_type": "code",
   "execution_count": null,
   "id": "4b6cffd4-fc7b-4eca-b67a-a0ffe237e4c1",
   "metadata": {},
   "outputs": [],
   "source": [
    "#create xyz file with positions\n",
    "file_xyz = open(directory+'kms1.xyz',\"w+\")\n",
    "file_xyz.write(' '+ str(N) + '\\n\\n')\n",
    "for i in range(N):\n",
    "    line = 'Ar' +  ' '\n",
    "    x = ri[0, i]\n",
    "    y = ri[1, i]\n",
    "    z = ri[2, i]\n",
    "    line += ' ' + str(x) + ' ' + str(y) + ' ' + str(z) + '\\n'\n",
    "    file_xyz.write(line)\n",
    "file_xyz.close()"
   ]
  },
  {
   "cell_type": "raw",
   "id": "afc862d8-416b-46e7-a1ca-46379e3b80e1",
   "metadata": {},
   "source": [
    "cp kms1.xyz /private/var/folders/_8/1pnnpyz111s3q4bf02xypbgc0000gn/T/hsperfdata_julnow/"
   ]
  }
 ],
 "metadata": {
  "kernelspec": {
   "display_name": "Python 3 (ipykernel)",
   "language": "python",
   "name": "python3"
  },
  "language_info": {
   "codemirror_mode": {
    "name": "ipython",
    "version": 3
   },
   "file_extension": ".py",
   "mimetype": "text/x-python",
   "name": "python",
   "nbconvert_exporter": "python",
   "pygments_lexer": "ipython3",
   "version": "3.8.11"
  }
 },
 "nbformat": 4,
 "nbformat_minor": 5
}
