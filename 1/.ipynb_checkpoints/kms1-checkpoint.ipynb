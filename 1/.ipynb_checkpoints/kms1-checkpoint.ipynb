{
 "cells": [
  {
   "cell_type": "code",
   "execution_count": 73,
   "id": "06d6481b-4718-468c-80ab-9bc2be153603",
   "metadata": {},
   "outputs": [],
   "source": [
    "import numpy as np\n",
    "from numpy import sqrt, log\n",
    "import random"
   ]
  },
  {
   "cell_type": "code",
   "execution_count": 2,
   "id": "ae1c429f-1952-434e-820f-1fb53bc6230b",
   "metadata": {},
   "outputs": [],
   "source": [
    "directory='/Users/julnow/Desktop/szkoła/KMS/1/'\n",
    "params = directory + 'params.txt'"
   ]
  },
  {
   "cell_type": "code",
   "execution_count": 102,
   "id": "eeb4f30e-7483-4cb9-8b7c-8f7489862318",
   "metadata": {},
   "outputs": [],
   "source": [
    "#read variables\n",
    "variables = {}\n",
    "with open(params) as f:\n",
    "    for line in f:\n",
    "        name, value = line.split(\" = \")\n",
    "        variables[name] = float(value)\n",
    "n = int(variables['n'])\n",
    "a = variables['a']\n",
    "L = variables['L']\n",
    "T =  variables['T']\n",
    "k = 8.31e-3\n",
    "m = 1\n",
    "#kryształ\n",
    "#(3)\n",
    "N = n**3 \n",
    "# (4)\n",
    "b0 = np.array([a, 0, 0])\n",
    "b1 = np.array([a/2, a*sqrt(3)/2, 0])\n",
    "b2 = np.array([a/2, a*sqrt(3)/6, a*sqrt(2/3)])\n",
    "# (5)\n",
    "ri= np.zeros([3, N])\n",
    "for i0 in range(n):\n",
    "    for i1 in range(n):\n",
    "        for i2 in range(n):\n",
    "            i = i0 + i1 * n + i2 * n**2\n",
    "            r = (i0 - (n-1)/2)*b0 +  (i1- (n-1)/2)*b1 + (i2 - (n-1)/2)*b2\n",
    "            ri[:,i] = r\n",
    "# (6)\n",
    "ei= np.zeros([3, N])\n",
    "const = - k * T /2\n",
    "for i in range(1, N+1):\n",
    "    x = const*log(random.uniform(0, 1))\n",
    "    y = const*log(random.uniform(0, 1))\n",
    "    z = const*log(random.uniform(0, 1))\n",
    "    ei[:,i-1] = np.array([x, y, z])\n",
    "# (7)\n",
    "pi= np.zeros([3, N])\n",
    "for i in range(1, N+1):\n",
    "    x = sqrt(2*m*ei[0, i-1])\n",
    "    if (random.uniform(0, 1) < .5):\n",
    "        x *= -1\n",
    "    y = sqrt(2*m*ei[1, i-1])\n",
    "    if (random.uniform(0, 1) < .5):\n",
    "        y *= -1\n",
    "    z = sqrt(2*m*ei[2, i-1])\n",
    "    if (random.uniform(0, 1) < .5):\n",
    "        z *= -1\n",
    "    pi[:,i-1] = np.array([x, y, z])\n",
    "    \n"
   ]
  },
  {
   "cell_type": "code",
   "execution_count": 100,
   "id": "ed87aea1-ffec-4870-9a0f-8fa90afc6d40",
   "metadata": {},
   "outputs": [
    {
     "data": {
      "text/plain": [
       "0.0"
      ]
     },
     "execution_count": 100,
     "metadata": {},
     "output_type": "execute_result"
    }
   ],
   "source": []
  },
  {
   "cell_type": "code",
   "execution_count": 7,
   "id": "d7718102-93db-48d8-bc01-ae3e1339a7c7",
   "metadata": {},
   "outputs": [
    {
     "ename": "SyntaxError",
     "evalue": "invalid syntax (3627628635.py, line 1)",
     "output_type": "error",
     "traceback": [
      "\u001b[0;36m  File \u001b[0;32m\"/var/folders/_8/1pnnpyz111s3q4bf02xypbgc0000gn/T/ipykernel_3968/3627628635.py\"\u001b[0;36m, line \u001b[0;32m1\u001b[0m\n\u001b[0;31m    def atom (r[x, y, z], p[x, y, z]):\u001b[0m\n\u001b[0m               ^\u001b[0m\n\u001b[0;31mSyntaxError\u001b[0m\u001b[0;31m:\u001b[0m invalid syntax\n"
     ]
    }
   ],
   "source": [
    "def atom (r[x, y, z], p[x, y, z]):\n",
    "    return r, p"
   ]
  }
 ],
 "metadata": {
  "kernelspec": {
   "display_name": "Python 3 (ipykernel)",
   "language": "python",
   "name": "python3"
  },
  "language_info": {
   "codemirror_mode": {
    "name": "ipython",
    "version": 3
   },
   "file_extension": ".py",
   "mimetype": "text/x-python",
   "name": "python",
   "nbconvert_exporter": "python",
   "pygments_lexer": "ipython3",
   "version": "3.8.11"
  }
 },
 "nbformat": 4,
 "nbformat_minor": 5
}
