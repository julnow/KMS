{
 "cells": [
  {
   "cell_type": "code",
   "execution_count": 1,
   "id": "06d6481b-4718-468c-80ab-9bc2be153603",
   "metadata": {},
   "outputs": [],
   "source": [
    "import numpy as np\n",
    "from numpy import sqrt, log\n",
    "import random\n",
    "import matplotlib.pyplot as plt\n",
    "import os\n",
    "import math"
   ]
  },
  {
   "cell_type": "code",
   "execution_count": 2,
   "id": "ae1c429f-1952-434e-820f-1fb53bc6230b",
   "metadata": {},
   "outputs": [],
   "source": [
    "directory='/Users/julnow/Desktop/szkoła/KMS/1/'\n",
    "params = directory + 'params.txt'"
   ]
  },
  {
   "cell_type": "markdown",
   "id": "b794403f-a026-4e7b-9a70-fa5cc63f0c09",
   "metadata": {},
   "source": [
    "lab 1"
   ]
  },
  {
   "cell_type": "code",
   "execution_count": 3,
   "id": "eeb4f30e-7483-4cb9-8b7c-8f7489862318",
   "metadata": {},
   "outputs": [],
   "source": [
    "#read variables\n",
    "variables = {}\n",
    "with open(params) as f:\n",
    "    for line in f:\n",
    "        name, value = line.split(\" = \")\n",
    "        variables[name] = float(value)\n",
    "n = int(variables['n'])\n",
    "a = variables['a']\n",
    "L = variables['L']\n",
    "T0 =  variables['T']\n",
    "R =  variables['R']\n",
    "k = 8.31e-3 # Boltzman const\n",
    "m = variables['m']# * 1.6605402e-27 # 1u\n",
    "eps = variables['eps']\n",
    "f = variables['f']\n",
    "tau = variables['tau']\n",
    "S_0 = int(variables['S_0'])\n",
    "S_d = int(variables['S_d'])\n",
    "S_out = int(variables['S_out'])\n",
    "S_xyz = int(variables['S_xyz'])\n",
    "\n",
    "# n = 3\n",
    "# T0 = 10\n",
    "#kryształ\n",
    "#(3)\n",
    "N = n**3 \n",
    "# (4)\n",
    "b0 = np.array([a, 0, 0])\n",
    "b1 = np.array([a/2, a*sqrt(3)/2, 0])\n",
    "b2 = np.array([a/2, a*sqrt(3)/6, a*sqrt(2/3)])\n",
    "# (5)\n",
    "ri = np.zeros([3, N])\n",
    "for i0 in range(n):\n",
    "    for i1 in range(n):\n",
    "        for i2 in range(n):\n",
    "            i = i0 + i1 * n + i2 * n**2\n",
    "            r = (i0 - (n-1)/2)*b0 +  (i1- (n-1)/2)*b1 + (i2 - (n-1)/2)*b2\n",
    "            ri[:,i] = r\n",
    "# (6)\n",
    "ei= np.zeros([3, N])\n",
    "const = - k * T0 /2\n",
    "for i in range(N):\n",
    "    x = const*log(random.uniform(0, 1))\n",
    "    y = const*log(random.uniform(0, 1))\n",
    "    z = const*log(random.uniform(0, 1))\n",
    "    ei[:,i] = np.array([x, y, z])\n",
    "# (7)\n",
    "pi= np.zeros([3, N])\n",
    "for i in range(N):\n",
    "    x = sqrt(2*m*ei[0, i])\n",
    "    if (random.uniform(0, 1) < .5):\n",
    "        x *= -1\n",
    "    y = sqrt(2*m*ei[1, i])\n",
    "    if (random.uniform(0, 1) < .5):\n",
    "        y *= -1\n",
    "    z = sqrt(2*m*ei[2, i])\n",
    "    if (random.uniform(0, 1) < .5):\n",
    "        z *= -1\n",
    "    pi[:,i] = np.array([x, y, z])\n",
    "# (8)\n",
    "Px = sum(pi[0,:])\n",
    "Py = sum(pi[1,:])\n",
    "Pz = sum(pi[2,:])\n",
    "for i in range(N):\n",
    "    pi[0,i] -= Px/N\n",
    "    pi[1,i] -= Py/N\n",
    "    pi[2,i] -= Pz/N"
   ]
  },
  {
   "cell_type": "code",
   "execution_count": 4,
   "id": "9b834cdd-ff81-4caf-9720-c0b85af5922e",
   "metadata": {
    "tags": []
   },
   "outputs": [],
   "source": [
    "#create xyz file with positions\n",
    "def create_file(name, mode):\n",
    "    file_xyz = open(directory+name,mode)\n",
    "    file_xyz.write(' '+ str(N) + '\\n\\n')\n",
    "    for i in range(N):\n",
    "        line = 'Ar' +  ' '\n",
    "        x = ri[0, i]\n",
    "        y = ri[1, i]\n",
    "        z = ri[2, i]\n",
    "        line += ' ' + str(x) + ' ' + str(y) + ' ' + str(z) + '\\n'\n",
    "        file_xyz.write(line)\n",
    "    file_xyz.close()\n",
    "create_file('kms1.xyz', \"w+\")#new file mode"
   ]
  },
  {
   "cell_type": "markdown",
   "id": "e1c054f4-e0ec-4c7c-854e-d4d7553c341b",
   "metadata": {},
   "source": [
    "lab 2"
   ]
  },
  {
   "cell_type": "code",
   "execution_count": 5,
   "id": "0a224052-71db-4231-83e1-798795c91532",
   "metadata": {
    "tags": []
   },
   "outputs": [
    {
     "name": "stdout",
     "output_type": "stream",
     "text": [
      "V = -669.2932036253528\n",
      "P = 0.0\n",
      "H = 782.920542252602\n"
     ]
    }
   ],
   "source": [
    "#### (9)\n",
    "Vp = np.zeros([N, N])\n",
    "Vs = np.zeros([N])\n",
    "Fs = np.zeros([3, N]) # (14)\n",
    "Fp = np.zeros([3, N]) # (13)\n",
    "Fi = np.zeros([3, N]) # (12)\n",
    "P = 0\n",
    "V = 0\n",
    "def calculate(): #'algorytm 2'\n",
    "    global ri, Vp, Vs, Fs, Fp, Fi, P, V, L\n",
    "    P = 0\n",
    "    V = 0\n",
    "    Vs = np.zeros([N])\n",
    "    Vp = np.zeros([N, N])\n",
    "    Fs = np.zeros([3, N]) # (12)\n",
    "    Fp = np.zeros([3, N]) # (12)\n",
    "    Fi = np.zeros([3, N]) # (12)\n",
    "    for i in range(N):\n",
    "        r = np.linalg.norm(ri[:,i])\n",
    "        if (r > L):\n",
    "            Vs[i] = f*pow((r-L),2)/2 # (10)\n",
    "            Fs[:, i] = f*(L-r) * (ri[:,i] / r) # (14)\n",
    "        P += np.linalg.norm(Fs[:, i]) / 4/ math.pi / L**2 # (15)\n",
    "        if (i > 0):\n",
    "            for j in range(i):\n",
    "                fi = 0\n",
    "                ri_rj = ri[:,i] - ri[:,j] # x, y, z difference\n",
    "                rr = np.linalg.norm(ri_rj) #sum of squares of x,y,z differences \n",
    "                Vp[i, j] = eps*( pow((R/rr), 12) - 2* pow((R/rr),6) ) # (9)\n",
    "                fi = 12* eps*( pow((R/rr), 12) - pow((R/rr),6) ) * ri_rj / rr**2 # (13)\n",
    "                Fp[:, i] += fi\n",
    "                Fp[:, j] -= fi  \n",
    "        \n",
    "    V = np.sum(Vs) + np.sum(Vp) # (11)\n",
    "    Fi = Fs + Fp\n",
    "calculate()  \n",
    "print ('V = ' + str(V))\n",
    "print ('P = ' + str(P))\n",
    "# (16)\n",
    "H = 0 #hamiltionian\n",
    "def hamiltionian():\n",
    "    global H\n",
    "    H = 0 \n",
    "    for i in range(N):\n",
    "        p = np.linalg.norm(pi[:, i])\n",
    "        H += p**2 /2/m\n",
    "    H += V\n",
    "    # print('H = ' + str(H))\n",
    "hamiltionian()\n",
    "print ('H = ' + str(H))"
   ]
  },
  {
   "cell_type": "markdown",
   "id": "0c34f270-d4fb-474b-98f3-965092f8107d",
   "metadata": {},
   "source": [
    "Lab 3"
   ]
  },
  {
   "cell_type": "code",
   "execution_count": 6,
   "id": "56579714-e32a-49a9-92f3-79ae8816f46d",
   "metadata": {},
   "outputs": [],
   "source": [
    "T = T0\n",
    "E_kin = 0 # (19)\n",
    "def simulation():\n",
    "    global ri, pi, T, Fi, Ekin, Vp, Vs, Fs, Fp, Fi, P, V, L\n",
    "    E_kin = 0\n",
    "    for i in range(N):\n",
    "        # (17 a)\n",
    "        # print('Fi_tau = ' + str(Fi_tau))\n",
    "        pi[:,i] +=  Fi[:, i]* tau/2  \n",
    "        # (17 b)\n",
    "        ri[:,i] += pi[:,i]*tau / m\n",
    "    calculate()\n",
    "    for i in range(N):\n",
    "        # (17 c)\n",
    "        pi[:,i] +=  Fi[:, i]* tau/2 \n",
    "        # (19)\n",
    "        p = np.linalg.norm(pi[:, i])\n",
    "        E_kin += p**2 /2/m\n",
    "    # print('P = ' + str(P))\n",
    "    # print('H = ' + str(H))\n",
    "    T = 2 / (3*N*k)  * E_kin # (19)\n",
    "    hamiltionian()\n",
    "    # print('T = ' + str(T))"
   ]
  },
  {
   "cell_type": "code",
   "execution_count": 7,
   "id": "97f97a71-7011-43fb-95b9-8c582d9ee89d",
   "metadata": {
    "tags": []
   },
   "outputs": [
    {
     "name": "stdout",
     "output_type": "stream",
     "text": [
      "t = 0.20200000000000015\n",
      "H = 782.9308765905296\n",
      "V = -255.48282874645912\n",
      "T = 666.4508337501733\n",
      "P = 0.0\n",
      "t = 0.4020000000000003\n",
      "H = 782.9538660839273\n",
      "V = -304.0638387439\n",
      "T = 697.644736351594\n",
      "P = 0.0\n",
      "t = 0.6020000000000004\n",
      "H = 782.9542615828075\n",
      "V = -255.4934026022397\n",
      "T = 666.4726284380569\n",
      "P = 0.0\n",
      "t = 0.8020000000000006\n",
      "H = 782.9559083299212\n",
      "V = -177.17153483432418\n",
      "T = 616.206943065701\n",
      "P = 10.436503558781364\n",
      "t = 1.0020000000000007\n",
      "H = 782.9513588840018\n",
      "V = -130.53831066525566\n",
      "T = 586.2749583950309\n",
      "P = 10.677910238911005\n",
      "t = 1.2020000000000008\n",
      "H = 782.950688702839\n",
      "V = -103.5980176093206\n",
      "T = 568.9843281586263\n",
      "P = 9.046377094504532\n",
      "t = 1.402000000000001\n",
      "H = 782.9504755780642\n",
      "V = -91.2082748403873\n",
      "T = 561.0324912432902\n",
      "P = 6.694545617753623\n",
      "t = 1.6020000000000012\n",
      "H = 782.9454765452026\n",
      "V = -66.85723943757301\n",
      "T = 545.400860638765\n",
      "P = 15.914543981853068\n",
      "t = 1.8020000000000014\n",
      "H = 782.9392277756907\n",
      "V = -41.964373891929874\n",
      "T = 529.4206829796201\n",
      "P = 30.295206300509403\n",
      "t = 2.002000000000001\n",
      "H = 782.9406352649468\n",
      "V = -48.67639391098626\n",
      "T = 533.7293408269126\n",
      "P = 21.279270948281894\n",
      "t = 2.201999999999979\n",
      "H = 782.9414894578754\n",
      "V = -30.58828469889623\n",
      "T = 522.1209942442176\n",
      "P = 24.805020665581267\n",
      "t = 2.401999999999957\n",
      "H = 782.9387415141939\n",
      "V = -44.48233091604715\n",
      "T = 531.0363882424332\n",
      "P = 20.02920687329152\n",
      "t = 2.601999999999935\n",
      "H = 782.9419418622922\n",
      "V = -26.448117502934338\n",
      "T = 519.4641375789661\n",
      "P = 31.427888444376784\n",
      "t = 2.801999999999913\n",
      "H = 782.9460407804229\n",
      "V = -44.37088548677232\n",
      "T = 530.9695475441285\n",
      "P = 6.983325119006567\n",
      "t = 3.001999999999891\n",
      "H = 782.9473854169726\n",
      "V = -36.50683546249725\n",
      "T = 525.9232865652434\n",
      "P = 18.267370303751726\n",
      "t = 3.201999999999869\n",
      "H = 782.9458425971267\n",
      "V = -41.578752335938326\n",
      "T = 529.1774375823924\n",
      "P = 21.886051920629768\n",
      "t = 3.401999999999847\n",
      "H = 782.9526171960429\n",
      "V = -38.19228844927796\n",
      "T = 527.0083630294879\n",
      "P = 17.6731350766473\n",
      "t = 3.601999999999825\n",
      "H = 782.9450552470928\n",
      "V = -45.654836173985984\n",
      "T = 531.792950771651\n",
      "P = 15.432557706263628\n",
      "t = 3.801999999999803\n",
      "H = 782.9561770144286\n",
      "V = -37.64048862451084\n",
      "T = 526.6565042207393\n",
      "P = 11.346735022039605\n",
      "t = 4.001999999999781\n",
      "H = 782.9506558492538\n",
      "V = -35.77379612178554\n",
      "T = 525.454923045994\n",
      "P = 15.393643952524684\n",
      "$\\overline{T}$ = 565.3573472643297\n",
      "$\\overline{P}$ = 14.498914152964756\n",
      "$\\overline{H}$ = 782.5544922278814\n"
     ]
    }
   ],
   "source": [
    "T_bar, P_bar, H_bar = 0, 0, 0 # (20)\n",
    "if not os.path.exists('polozenia'):\n",
    "    os.makedirs('polozenia')\n",
    "def bar(var, name):\n",
    "    var = var /S_d\n",
    "    print(r'$\\overline{' + name + r'}$ = ' + str(var))\n",
    "'''simulation'''\n",
    "t = 0.\n",
    "for s in range (S_0 + S_d):\n",
    "    simulation()\n",
    "    t += tau\n",
    "    if (s > S_0):\n",
    "        if (s % S_out == 0):\n",
    "            print('t = ' + str(t))\n",
    "            print('H = ' + str(H))\n",
    "            print('V = ' + str(V))\n",
    "            print('T = ' + str(T))\n",
    "            print('P = ' + str(P))\n",
    "        if (s % S_xyz == 0):\n",
    "            # create_file('polozenia/polozenie'+str(t)+'.xyz')\n",
    "            create_file('kms1.xyz', \"a\") #append mode\n",
    "        T_bar += T\n",
    "        P_bar += P\n",
    "        H_bar += H\n",
    "bar(T_bar, 'T')\n",
    "bar(P_bar, 'P')\n",
    "bar(H_bar, 'H')"
   ]
  },
  {
   "cell_type": "code",
   "execution_count": 8,
   "id": "ed87aea1-ffec-4870-9a0f-8fa90afc6d40",
   "metadata": {
    "tags": []
   },
   "outputs": [
    {
     "data": {
      "image/png": "[encoded data removed]",
      "text/plain": [
       "<Figure size 864x576 with 1 Axes>"
      ]
     },
     "metadata": {
      "needs_background": "light"
     },
     "output_type": "display_data"
    },
    {
     "data": {
      "image/png": "[encoded data removed]",
      "text/plain": [
       "<Figure size 864x576 with 1 Axes>"
      ]
     },
     "metadata": {
      "needs_background": "light"
     },
     "output_type": "display_data"
    },
    {
     "data": {
      "image/png": "[encoded data removed]",
      "text/plain": [
       "<Figure size 864x576 with 1 Axes>"
      ]
     },
     "metadata": {
      "needs_background": "light"
     },
     "output_type": "display_data"
    }
   ],
   "source": [
    "#plot histograms for momenta\n",
    "coords = ['x', 'y', 'z']\n",
    "count = 0\n",
    "for coord in coords:\n",
    "    fig, ax = plt.subplots(figsize=(12,8))\n",
    "    name = r'$p_{' + coord + r'}$'\n",
    "    plt.title(r'Histogram of ' + name , fontsize=18)\n",
    "    plt.xlabel(name, fontsize=18, loc='right')\n",
    "    plt.ylabel(\"entries\", fontsize=18, loc='top')\n",
    "    #plt.yscale('log')\n",
    "    plt.hist(pi[count, :], bins=100)\n",
    "    ax.tick_params(axis='both', which='major', labelsize=14)\n",
    "    fig.tight_layout()\n",
    "    count += 1"
   ]
  },
  {
   "cell_type": "raw",
   "id": "afc862d8-416b-46e7-a1ca-46379e3b80e1",
   "metadata": {},
   "source": [
    "cp kms1.xyz /private/var/folders/_8/1pnnpyz111s3q4bf02xypbgc0000gn/T/hsperfdata_julnow/"
   ]
  }
 ],
 "metadata": {
  "kernelspec": {
   "display_name": "Python 3 (ipykernel)",
   "language": "python",
   "name": "python3"
  },
  "language_info": {
   "codemirror_mode": {
    "name": "ipython",
    "version": 3
   },
   "file_extension": ".py",
   "mimetype": "text/x-python",
   "name": "python",
   "nbconvert_exporter": "python",
   "pygments_lexer": "ipython3",
   "version": "3.8.11"
  }
 },
 "nbformat": 4,
 "nbformat_minor": 5
}
