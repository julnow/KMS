{
 "cells": [
  {
   "cell_type": "code",
   "execution_count": null,
   "id": "06d6481b-4718-468c-80ab-9bc2be153603",
   "metadata": {},
   "outputs": [],
   "source": [
    "import numpy as np\n",
    "from numpy import sqrt, log\n",
    "import random\n",
    "import matplotlib.pyplot as plt"
   ]
  },
  {
   "cell_type": "code",
   "execution_count": null,
   "id": "ae1c429f-1952-434e-820f-1fb53bc6230b",
   "metadata": {},
   "outputs": [],
   "source": [
    "directory='/Users/julnow/Desktop/szkoła/KMS/1/'\n",
    "params = directory + 'params.txt'"
   ]
  },
  {
   "cell_type": "code",
   "execution_count": null,
   "id": "eeb4f30e-7483-4cb9-8b7c-8f7489862318",
   "metadata": {},
   "outputs": [],
   "source": [
    "#read variables\n",
    "variables = {}\n",
    "with open(params) as f:\n",
    "    for line in f:\n",
    "        name, value = line.split(\" = \")\n",
    "        variables[name] = float(value)\n",
    "n = int(variables['n'])\n",
    "a = variables['a']\n",
    "L = variables['L']\n",
    "T =  variables['T']\n",
    "R =  variables['R']\n",
    "k = 8.31e-3 # Boltzman const\n",
    "m = variables['m'] * 1.6605402e-27 # 1u\n",
    "eps = 1\n",
    "#kryształ\n",
    "#(3)\n",
    "N = n**3 \n",
    "# (4)\n",
    "b0 = np.array([a, 0, 0])\n",
    "b1 = np.array([a/2, a*sqrt(3)/2, 0])\n",
    "b2 = np.array([a/2, a*sqrt(3)/6, a*sqrt(2/3)])\n",
    "# (5)\n",
    "ri= np.zeros([3, N])\n",
    "for i0 in range(n):\n",
    "    for i1 in range(n):\n",
    "        for i2 in range(n):\n",
    "            i = i0 + i1 * n + i2 * n**2\n",
    "            r = (i0 - (n-1)/2)*b0 +  (i1- (n-1)/2)*b1 + (i2 - (n-1)/2)*b2\n",
    "            ri[:,i] = r\n",
    "# (6)\n",
    "ei= np.zeros([3, N])\n",
    "const = - k * T /2\n",
    "for i in range(1, N+1):\n",
    "    x = const*log(random.uniform(0, 1))\n",
    "    y = const*log(random.uniform(0, 1))\n",
    "    z = const*log(random.uniform(0, 1))\n",
    "    ei[:,i-1] = np.array([x, y, z])\n",
    "# (7)\n",
    "pi= np.zeros([3, N])\n",
    "for i in range(1, N+1):\n",
    "    x = sqrt(2*m*ei[0, i-1])\n",
    "    if (random.uniform(0, 1) < .5):\n",
    "        x *= -1\n",
    "    y = sqrt(2*m*ei[1, i-1])\n",
    "    if (random.uniform(0, 1) < .5):\n",
    "        y *= -1\n",
    "    z = sqrt(2*m*ei[2, i-1])\n",
    "    if (random.uniform(0, 1) < .5):\n",
    "        z *= -1\n",
    "    pi[:,i-1] = np.array([x, y, z])\n",
    "# (8)\n",
    "Px = sum(pi[0,:])\n",
    "Py = sum(pi[1,:])\n",
    "Pz = sum(pi[2,:])\n",
    "for i in range(N):\n",
    "    pi[0,i] -= Px/N\n",
    "    pi[1,i] -= Py/N\n",
    "    pi[2,i] -= Pz/N"
   ]
  },
  {
   "cell_type": "code",
   "execution_count": null,
   "id": "803cdedb-f9b9-4360-a941-833f812601a6",
   "metadata": {},
   "outputs": [],
   "source": [
    "i, j = 1, 2\n",
    "ri_rj = ri[:,i] - ri[:,j]\n",
    "print(ri_rj)\n",
    "r = abs( np.sum (np.square( ri_rj ) ) )\n",
    "print(r)"
   ]
  },
  {
   "cell_type": "code",
   "execution_count": null,
   "id": "47b76278-10fa-4ae3-801a-ed03d2a50007",
   "metadata": {},
   "outputs": [],
   "source": [
    "# (9)\n",
    "Vp = np.zeros([N, N])\n",
    "Fi = np.zeros([3, N]) # (12)\n",
    "for i in range (N):\n",
    "    for j in range(i, N):\n",
    "        if (i != j):\n",
    "            ri_rj = ri[:,i] - ri[:,j] # x, y, z difference\n",
    "            r = abs( np.sum (np.square( ri_rj ) ) ) #sum of squares of x,y,z differences\n",
    "            vp_ij = eps*( pow((R/r), 12) - 2* pow((R/r),6) )\n",
    "            if (vp_ij > 109641):\n",
    "                print(str(i) + ' ' + str(j))\n",
    "            Vp[i, j] = vp_ij\n",
    "            Fi[:, i] += 12* vp_ij * ri_rj / r**2 # (13)"
   ]
  },
  {
   "cell_type": "code",
   "execution_count": null,
   "id": "2197b71f-18cc-48ba-9f5f-d4c1c039f47b",
   "metadata": {},
   "outputs": [],
   "source": [
    "np.sum(Vp)"
   ]
  },
  {
   "cell_type": "code",
   "execution_count": null,
   "id": "10e5bcfa-9a7b-4b3f-9927-1582d72c0b05",
   "metadata": {},
   "outputs": [],
   "source": [
    "f = 10e4\n",
    "# (10)\n",
    "Vs = np.zeros([N])\n",
    "P = np.zeros([3])\n",
    "for i in range (N):\n",
    "    r = np.sum(np.square(ri[:,i]))\n",
    "    if (r < L):\n",
    "        Vs[i] = 0\n",
    "    else:\n",
    "        Vs[i] = f*pow((r-L),2)/2\n",
    "        Fi[:, i] += f*(L-r) * (ri[:,i] / r) # (14)\n",
    "        P += Fi[:, i] / 4/ 3.14 / L**2 # (15)\n",
    "# (11)\n",
    "V = np.sum(Vs) + np.sum(Vp)"
   ]
  },
  {
   "cell_type": "code",
   "execution_count": null,
   "id": "a9215e9f-d49d-4c02-b5c8-b2732b09910f",
   "metadata": {},
   "outputs": [],
   "source": [
    "V"
   ]
  },
  {
   "cell_type": "code",
   "execution_count": null,
   "id": "ed87aea1-ffec-4870-9a0f-8fa90afc6d40",
   "metadata": {
    "tags": []
   },
   "outputs": [],
   "source": [
    "#plot histograms for momenta\n",
    "coords = ['x', 'y', 'z']\n",
    "count = 0\n",
    "for coord in coords:\n",
    "    fig, ax = plt.subplots(figsize=(12,8))\n",
    "    name = r'$p_{' + coord + r'}$'\n",
    "    plt.title(r'Histogram of ' + name , fontsize=18)\n",
    "    plt.xlabel(name, fontsize=18, loc='right')\n",
    "    plt.ylabel(\"entries\", fontsize=18, loc='top')\n",
    "    #plt.yscale('log')\n",
    "    plt.hist(pi[count, :], bins=100)\n",
    "    ax.tick_params(axis='both', which='major', labelsize=14)\n",
    "    fig.tight_layout()\n",
    "    count += 1"
   ]
  },
  {
   "cell_type": "code",
   "execution_count": null,
   "id": "4b6cffd4-fc7b-4eca-b67a-a0ffe237e4c1",
   "metadata": {},
   "outputs": [],
   "source": [
    "#create xyz file with positions\n",
    "file_xyz = open(directory+'kms1.xyz',\"w+\")\n",
    "file_xyz.write(' '+ str(N) + '\\n\\n')\n",
    "for i in range(N):\n",
    "    line = 'Ar' +  ' '\n",
    "    x = ri[0, i]\n",
    "    y = ri[1, i]\n",
    "    z = ri[2, i]\n",
    "    line += ' ' + str(x) + ' ' + str(y) + ' ' + str(z) + '\\n'\n",
    "    file_xyz.write(line)\n",
    "file_xyz.close()"
   ]
  },
  {
   "cell_type": "raw",
   "id": "afc862d8-416b-46e7-a1ca-46379e3b80e1",
   "metadata": {},
   "source": [
    "cp kms1.xyz /private/var/folders/_8/1pnnpyz111s3q4bf02xypbgc0000gn/T/hsperfdata_julnow/"
   ]
  }
 ],
 "metadata": {
  "kernelspec": {
   "display_name": "Python 3 (ipykernel)",
   "language": "python",
   "name": "python3"
  },
  "language_info": {
   "codemirror_mode": {
    "name": "ipython",
    "version": 3
   },
   "file_extension": ".py",
   "mimetype": "text/x-python",
   "name": "python",
   "nbconvert_exporter": "python",
   "pygments_lexer": "ipython3",
   "version": "3.8.11"
  }
 },
 "nbformat": 4,
 "nbformat_minor": 5
}
