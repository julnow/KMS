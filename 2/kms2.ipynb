{
 "cells": [
  {
   "cell_type": "code",
   "execution_count": 1,
   "id": "06d6481b-4718-468c-80ab-9bc2be153603",
   "metadata": {},
   "outputs": [],
   "source": [
    "import numpy as np\n",
    "from numpy import sqrt, log\n",
    "import random\n",
    "import matplotlib.pyplot as plt\n",
    "from matplotlib.animation import FuncAnimation\n",
    "import os\n",
    "import math\n",
    "from numpy import exp\n",
    "from scipy import linalg\n",
    "from scipy.sparse import diags\n",
    "\n",
    "%matplotlib inline"
   ]
  },
  {
   "cell_type": "code",
   "execution_count": 2,
   "id": "ae1c429f-1952-434e-820f-1fb53bc6230b",
   "metadata": {},
   "outputs": [],
   "source": [
    "directory='/Users/julnow/Desktop/szkoła/KMS/2/'\n",
    "params = directory + 'params.txt'"
   ]
  },
  {
   "cell_type": "markdown",
   "id": "084940eb-6833-4120-b4c1-21169937285d",
   "metadata": {},
   "source": [
    "\n",
    "    Przesyłam zadanie drugie - jest to ex. 19 z przesłąnego materiału. Wcześniej należy przeczytać podp. 5.2.4.\n",
    "Celem będzie rozwiazanie jednowymairowego równania Schrodingera zaleznego od czasu, korzystając z operatora ewolucji czasowej w postaci Cayleya (wz. 5.86) - było o tym trochę na ostatnim wykładzie przy okazji metody TDHF. Startujemy z funkcji (5.91) a nastepnie propagujemy taki impuls falowy uwzględniając próg potencjału z podpunktu 19b. Resztę doprecyzuję na zajęciach, ale procedurę budujaca macierz (lewa strona wz. 5.89) można sobie już przygotować. Do rozwiązania numerycznego układu równań (5.89) stosujemy oczywiscie funkcje biblioteczne.\n"
   ]
  },
  {
   "cell_type": "code",
   "execution_count": 188,
   "id": "5eecba14-6ff9-402f-8817-27b1118f20ad",
   "metadata": {},
   "outputs": [],
   "source": [
    "# imaginary unit in numpy = 1j\n",
    "pi = np.pi\n",
    "\n",
    "# consts\n",
    "x0 = -5\n",
    "x1 = 25\n",
    "x_steps = 200\n",
    "x = np.linspace(x0, x1, x_steps)\n",
    "dx = abs(x0-x1)/x_steps\n",
    "v0 = 105\n",
    "sigma = 0.5\n",
    "k0 = 10\n",
    "dk = 1\n",
    "t0 = 0\n",
    "t1 = 1\n",
    "dt = 0.005\n",
    "\n",
    "# psi0\n",
    "psi = sqrt(dk) / pow(pi, 1/4) * exp(- (x**2 * dk**2 / 2)) * exp(1j* k0 * x)\n",
    "# v0\n",
    "def set_v(x):\n",
    "    v = v0 * exp (- ( x-10)**2 / sigma**2)\n",
    "    return v\n",
    "# v = v(x)\n",
    "# 5.90\n",
    "def set_A(v):\n",
    "    b =  1 + 1j * dt  / 2 * ( 2/dx**2 + v )\n",
    "    a = c = np.full( (len(b) - 1), - 1j*dt/2/ dx**2)\n",
    "    #diagonal matrix using scipy function\n",
    "    offset = [-1,0,1]\n",
    "    A = diags([a, b, c] ,offset).toarray()\n",
    "    return A\n",
    "def set_r(psi, v):\n",
    "    # 5.89\n",
    "    r = psi\n",
    "    for i, ri in enumerate(r):\n",
    "        if i != 0 and i != len(r)-1:\n",
    "            r[i] += 1j *dt / 2 * ( (r[i+1] - 2*ri + r[i-1])/dx**2 - v[i]*ri )\n",
    "        elif i==0:\n",
    "            r[i] += 1j *dt / 2 * ( (r[i+1] - 2*ri + 0)/dx**2 - v[i]*ri )\n",
    "        elif len(r)-1:\n",
    "            r[i] += 1j *dt / 2 * ( (0 - 2*ri + 0)/dx**2 - v[i]*ri )\n",
    "    return r\n",
    "# r = r(psi, v)"
   ]
  },
  {
   "cell_type": "code",
   "execution_count": 189,
   "id": "89336403-50de-4757-b873-e3525bf4c2b6",
   "metadata": {},
   "outputs": [],
   "source": [
    "#calculate next step from 5.89\n",
    "def simulate(psi):\n",
    "    v = set_v(x)\n",
    "    A = set_A(v)\n",
    "    r = set_r(psi, v)\n",
    "    psi = linalg.solve(A, r)\n",
    "    return psi\n",
    "def print_psi(psi):\n",
    "    return abs(psi)"
   ]
  },
  {
   "cell_type": "code",
   "execution_count": 328,
   "id": "3356df47-b7ef-4be4-9062-430746e7474b",
   "metadata": {},
   "outputs": [
    {
     "data": {
      "application/vnd.jupyter.widget-view+json": {
       "model_id": "308d26a41f2243a89c50a8436cd6abd9",
       "version_major": 2,
       "version_minor": 0
      },
      "text/plain": [
       "Canvas(toolbar=Toolbar(toolitems=[('Home', 'Reset original view', 'home', 'home'), ('Back', 'Back to previous …"
      ]
     },
     "metadata": {},
     "output_type": "display_data"
    },
    {
     "data": {
      "text/plain": [
       "[<matplotlib.lines.Line2D at 0x28d320130>]"
      ]
     },
     "execution_count": 328,
     "metadata": {},
     "output_type": "execute_result"
    }
   ],
   "source": [
    "#tu z palca duzo razy odpalic i dziala\n",
    "fig, ax = plt.subplots()\n",
    "psi = simulate(psi)\n",
    "ax.plot(x, print_psi(psi))\n",
    "ax.plot(x, set_v(x))"
   ]
  },
  {
   "cell_type": "code",
   "execution_count": 32,
   "id": "f8ac14b0-301b-459b-a637-00d07f6f06d3",
   "metadata": {},
   "outputs": [
    {
     "data": {
      "application/vnd.jupyter.widget-view+json": {
       "model_id": "295c9adfa6bc433495f1067a78b01afc",
       "version_major": 2,
       "version_minor": 0
      },
      "text/plain": [
       "Canvas(toolbar=Toolbar(toolitems=[('Home', 'Reset original view', 'home', 'home'), ('Back', 'Back to previous …"
      ]
     },
     "metadata": {},
     "output_type": "display_data"
    }
   ],
   "source": [
    "%matplotlib widget\n",
    "def create_video(psi, x):\n",
    "    \n",
    "    fig, ax = plt.subplots()\n",
    "    psi = simulate(psi)\n",
    "    line, = ax.plot(x, print_psi(psi))\n",
    "    ax.plot(x, set_v(x))\n",
    "\n",
    "    def animate(i):\n",
    "        psi  = simulate(psi)\n",
    "        line.set_data(x, print_psi(psi))  # update the data.\n",
    "        print(i)\n",
    "        return line,\n",
    "    \n",
    "    def init():\n",
    "        line.set_data(x, print_psi(psi)) \n",
    "        \n",
    "    return line,\n",
    "\n",
    "    anim = animation.FuncAnimation(\n",
    "    fig, animate, init_func=init, frames=2000, interval=20, blit=True)\n",
    "\n",
    "    plt.show()\n",
    "\n",
    "    return anim\n",
    "\n",
    "anim = create_video(psi, x)"
   ]
  },
  {
   "cell_type": "code",
   "execution_count": 33,
   "id": "34e80ffc-dd7b-4992-9ff9-894b4c2e2572",
   "metadata": {},
   "outputs": [
    {
     "data": {
      "application/vnd.jupyter.widget-view+json": {
       "model_id": "98aabc7a4c4e42ceaaeb8091917cdd0b",
       "version_major": 2,
       "version_minor": 0
      },
      "text/plain": [
       "Canvas(toolbar=Toolbar(toolitems=[('Home', 'Reset original view', 'home', 'home'), ('Back', 'Back to previous …"
      ]
     },
     "metadata": {},
     "output_type": "display_data"
    }
   ],
   "source": [
    "#zeby sprawdzic czy jakakolwiek animacja dziala\n",
    "def film():\n",
    "    fig = plt.figure()\n",
    "    ax = plt.axes(xlim=(0, 2), ylim=(-2, 2))\n",
    "    line, = ax.plot([], [], lw=2)\n",
    "\n",
    "    # initialization function: plot the background of each frame\n",
    "    def init():\n",
    "        line.set_data([], [])\n",
    "        return line,\n",
    "\n",
    "    # animation function.  This is called sequentially\n",
    "    def animate(i):\n",
    "        x = np.linspace(0, 2, 1000)\n",
    "        y = np.sin(2 * np.pi * (x - 0.01 * i))\n",
    "        line.set_data(x, y)\n",
    "        return line,\n",
    "\n",
    "    # call the animator.  blit=True means only re-draw the parts that have changed.\n",
    "    anim = FuncAnimation(fig, animate, init_func=init,\n",
    "                                   frames=200, interval=20, blit=True)\n",
    "    return anim\n",
    "anim = film()"
   ]
  }
 ],
 "metadata": {
  "kernelspec": {
   "display_name": "Python 3 (ipykernel)",
   "language": "python",
   "name": "python3"
  },
  "language_info": {
   "codemirror_mode": {
    "name": "ipython",
    "version": 3
   },
   "file_extension": ".py",
   "mimetype": "text/x-python",
   "name": "python",
   "nbconvert_exporter": "python",
   "pygments_lexer": "ipython3",
   "version": "3.8.12"
  }
 },
 "nbformat": 4,
 "nbformat_minor": 5
}
