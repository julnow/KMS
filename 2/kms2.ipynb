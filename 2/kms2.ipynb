{
 "cells": [
  {
   "cell_type": "code",
   "execution_count": 119,
   "id": "06d6481b-4718-468c-80ab-9bc2be153603",
   "metadata": {},
   "outputs": [],
   "source": [
    "import numpy as np\n",
    "from numpy import sqrt, log\n",
    "import random\n",
    "import matplotlib.pyplot as plt\n",
    "import matplotlib.animation as animation\n",
    "import os\n",
    "import math\n",
    "from numpy import exp\n",
    "from scipy import linalg\n",
    "from scipy.sparse import diags"
   ]
  },
  {
   "cell_type": "code",
   "execution_count": 120,
   "id": "ae1c429f-1952-434e-820f-1fb53bc6230b",
   "metadata": {},
   "outputs": [],
   "source": [
    "directory='/Users/julnow/Desktop/szkoła/KMS/2/'\n",
    "params = directory + 'params.txt'"
   ]
  },
  {
   "cell_type": "markdown",
   "id": "084940eb-6833-4120-b4c1-21169937285d",
   "metadata": {},
   "source": [
    "\n",
    "    Przesyłam zadanie drugie - jest to ex. 19 z przesłąnego materiału. Wcześniej należy przeczytać podp. 5.2.4.\n",
    "Celem będzie rozwiazanie jednowymairowego równania Schrodingera zaleznego od czasu, korzystając z operatora ewolucji czasowej w postaci Cayleya (wz. 5.86) - było o tym trochę na ostatnim wykładzie przy okazji metody TDHF. Startujemy z funkcji (5.91) a nastepnie propagujemy taki impuls falowy uwzględniając próg potencjału z podpunktu 19b. Resztę doprecyzuję na zajęciach, ale procedurę budujaca macierz (lewa strona wz. 5.89) można sobie już przygotować. Do rozwiązania numerycznego układu równań (5.89) stosujemy oczywiscie funkcje biblioteczne.\n"
   ]
  },
  {
   "cell_type": "code",
   "execution_count": 121,
   "id": "5eecba14-6ff9-402f-8817-27b1118f20ad",
   "metadata": {},
   "outputs": [],
   "source": [
    "# imaginary unit in numpy = 1j\n",
    "pi = np.pi\n",
    "\n",
    "# consts\n",
    "x0 = -5\n",
    "x1 = 25\n",
    "x_steps = 200\n",
    "x = np.linspace(x0, x1, x_steps)\n",
    "dx = abs(x0-x1)/x_steps\n",
    "v0 = 105\n",
    "sigma = 0.5\n",
    "k0 = 10\n",
    "dk = 1\n",
    "t0 = 0\n",
    "t1 = 1\n",
    "dt = 0.005\n",
    "\n",
    "# psi0\n",
    "psi = sqrt(dk) / pow(pi, 1/4) * exp(- (x**2 * dk**2 / 2)) * exp(1j* k0 * x)\n",
    "# v0\n",
    "def set_v(x):\n",
    "    v = v0 * exp (- ( x-10)**2 / sigma**2)\n",
    "    return v\n",
    "# v = v(x)\n",
    "# 5.90\n",
    "def set_A(v):\n",
    "    b =  1 + 1j * dt  / 2 * ( 2/dx**2 + v )\n",
    "    a = c = np.full( (len(b) - 1), - 1j*dt/2/ dx**2)\n",
    "    #diagonal matrix using scipy function\n",
    "    offset = [-1,0,1]\n",
    "    A = diags([a, b, c] ,offset).toarray()\n",
    "    return A\n",
    "def set_r(psi, v):\n",
    "    # 5.89\n",
    "    r = psi\n",
    "    for i, ri in enumerate(r):\n",
    "        if i != 0 and i != len(r)-1:\n",
    "            r[i] += 1j *dt / 2 * ( (r[i+1] - 2*ri + r[i-1])/dx**2 - v[i]*ri )\n",
    "        elif i==0:\n",
    "            r[i] += 1j *dt / 2 * ( (r[i+1] - 2*ri + 0)/dx**2 - v[i]*ri )\n",
    "        elif len(r)-1:\n",
    "            r[i] += 1j *dt / 2 * ( (0 - 2*ri + 0)/dx**2 - v[i]*ri )\n",
    "    return r\n",
    "# r = r(psi, v)"
   ]
  },
  {
   "cell_type": "code",
   "execution_count": 146,
   "id": "89336403-50de-4757-b873-e3525bf4c2b6",
   "metadata": {},
   "outputs": [],
   "source": [
    "#calculate next step from 5.89\n",
    "def simulate(psi):\n",
    "    v = set_v(x)\n",
    "    A = set_A(v)\n",
    "    r = set_r(psi, v)\n",
    "    psi = linalg.solve(A, r)\n",
    "    return psi\n",
    "def print_psi(psi):\n",
    "    return abs(psi)"
   ]
  },
  {
   "cell_type": "code",
   "execution_count": 182,
   "id": "f8ac14b0-301b-459b-a637-00d07f6f06d3",
   "metadata": {},
   "outputs": [
    {
     "data": {
      "image/png": "[encoded data removed]",
      "text/plain": [
       "<Figure size 432x288 with 1 Axes>"
      ]
     },
     "metadata": {
      "needs_background": "light"
     },
     "output_type": "display_data"
    }
   ],
   "source": [
    "def create_video(psi):\n",
    "    \n",
    "    fig, ax = plt.subplots()\n",
    "    line, = ax.plot(x, print_psi(psi))\n",
    "\n",
    "    def animate(i):\n",
    "        global psi\n",
    "        psi = simulate(psi)\n",
    "        line.set_ydata(print_psi(psi))  # update the data.\n",
    "        return line,\n",
    "    \n",
    "    def init():\n",
    "        global psi\n",
    "        line.set_ydata(print_psi(psi))\n",
    "    return line,\n",
    "\n",
    "    anim = animation.FuncAnimation(\n",
    "    fig, animate, frames=1000, init_func=init, blit = True, interval=20)\n",
    "\n",
    "    plt.show()\n",
    "\n",
    "    return anim\n",
    "\n",
    "anim = create_video(psi)"
   ]
  },
  {
   "cell_type": "code",
   "execution_count": 388,
   "id": "92982b76-3c68-4bc6-a3fe-fa4116a4a103",
   "metadata": {},
   "outputs": [
    {
     "data": {
      "image/png": "[encoded data removed]",
      "text/plain": [
       "<Figure size 432x288 with 1 Axes>"
      ]
     },
     "metadata": {
      "needs_background": "light"
     },
     "output_type": "display_data"
    }
   ],
   "source": [
    "fig, ax = plt.subplots()\n",
    "psi = simulate(psi)\n",
    "line, = ax.plot(x, print_psi(psi))\n",
    "line.set_ydata(print_psi(psi))  # update the data."
   ]
  }
 ],
 "metadata": {
  "kernelspec": {
   "display_name": "Python 3 (ipykernel)",
   "language": "python",
   "name": "python3"
  },
  "language_info": {
   "codemirror_mode": {
    "name": "ipython",
    "version": 3
   },
   "file_extension": ".py",
   "mimetype": "text/x-python",
   "name": "python",
   "nbconvert_exporter": "python",
   "pygments_lexer": "ipython3",
   "version": "3.8.11"
  }
 },
 "nbformat": 4,
 "nbformat_minor": 5
}
