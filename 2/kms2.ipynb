{
 "cells": [
  {
   "cell_type": "code",
   "execution_count": 40,
   "id": "06d6481b-4718-468c-80ab-9bc2be153603",
   "metadata": {},
   "outputs": [],
   "source": [
    "import numpy as np\n",
    "from numpy import sqrt, log\n",
    "import random\n",
    "import matplotlib.pyplot as plt\n",
    "import os\n",
    "import math\n",
    "from numpy import exp\n",
    "from scipy.sparse import diags"
   ]
  },
  {
   "cell_type": "code",
   "execution_count": 2,
   "id": "ae1c429f-1952-434e-820f-1fb53bc6230b",
   "metadata": {},
   "outputs": [],
   "source": [
    "directory='/Users/julnow/Desktop/szkoła/KMS/2/'\n",
    "params = directory + 'params.txt'"
   ]
  },
  {
   "cell_type": "markdown",
   "id": "084940eb-6833-4120-b4c1-21169937285d",
   "metadata": {},
   "source": [
    "\n",
    "    Przesyłam zadanie drugie - jest to ex. 19 z przesłąnego materiału. Wcześniej należy przeczytać podp. 5.2.4.\n",
    "Celem będzie rozwiazanie jednowymairowego równania Schrodingera zaleznego od czasu, korzystając z operatora ewolucji czasowej w postaci Cayleya (wz. 5.86) - było o tym trochę na ostatnim wykładzie przy okazji metody TDHF. Startujemy z funkcji (5.91) a nastepnie propagujemy taki impuls falowy uwzględniając próg potencjału z podpunktu 19b. Resztę doprecyzuję na zajęciach, ale procedurę budujaca macierz (lewa strona wz. 5.89) można sobie już przygotować. Do rozwiązania numerycznego układu równań (5.89) stosujemy oczywiscie funkcje biblioteczne.\n"
   ]
  },
  {
   "cell_type": "code",
   "execution_count": 60,
   "id": "5eecba14-6ff9-402f-8817-27b1118f20ad",
   "metadata": {},
   "outputs": [],
   "source": [
    "#imaginary unit in numpy = 1j\n",
    "pi = np.pi\n",
    "\n",
    "#stale\n",
    "x0 = -5\n",
    "x1 = 25\n",
    "x_steps = 200\n",
    "x = np.linspace(x0, x1, x_steps)\n",
    "dx = abs(x0-x1)/x_steps\n",
    "v0 = 105\n",
    "sigma = 0.5\n",
    "k0 = 10\n",
    "dk = 1\n",
    "t0 = 0\n",
    "t1 = 1\n",
    "dt = 0.005\n",
    "#phi0\n",
    "phi = sqrt(dk) / pow(pi, 1/4) * exp(- (x**2 * dk**2 / 2)) * exp(1j* k0 * x)\n",
    "#v0\n",
    "v = v0 * exp (- ( x-10)**2 / sigma**2)\n",
    "# 5.90\n",
    "b =  1 + 1j * dt  / 2 * ( 2/dx**2 + v )\n",
    "a = c = np.full( (len(b) - 1), - 1j*dt/2/ dx**2)\n",
    "#diagonal matrix using scipy function\n",
    "offset = [-1,0,1]\n",
    "A = diags([a, b, c] ,offset).toarray()"
   ]
  },
  {
   "cell_type": "code",
   "execution_count": null,
   "id": "89336403-50de-4757-b873-e3525bf4c2b6",
   "metadata": {},
   "outputs": [],
   "source": []
  }
 ],
 "metadata": {
  "kernelspec": {
   "display_name": "Python 3 (ipykernel)",
   "language": "python",
   "name": "python3"
  },
  "language_info": {
   "codemirror_mode": {
    "name": "ipython",
    "version": 3
   },
   "file_extension": ".py",
   "mimetype": "text/x-python",
   "name": "python",
   "nbconvert_exporter": "python",
   "pygments_lexer": "ipython3",
   "version": "3.8.11"
  }
 },
 "nbformat": 4,
 "nbformat_minor": 5
}
